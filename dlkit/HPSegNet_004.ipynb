{
 "cells": [
  {
   "cell_type": "markdown",
   "metadata": {},
   "source": [
    "# HPSegNet"
   ]
  },
  {
   "cell_type": "code",
   "execution_count": 1,
   "metadata": {},
   "outputs": [],
   "source": [
    "import torch\n",
    "import torch.nn as nn\n",
    "import torch.nn.functional as F\n",
    "from pytorch_memlab import profile\n",
    "from models.blocks import ResBlock, CBR, GlobalAvgPool2d, AttentionBlock"
   ]
  },
  {
   "cell_type": "markdown",
   "metadata": {},
   "source": [
    "## Define Network Architecture"
   ]
  },
  {
   "cell_type": "code",
   "execution_count": 2,
   "metadata": {},
   "outputs": [],
   "source": [
    "class HPNet(nn.Module):\n",
    "    def __init__(self):\n",
    "        super().__init__()\n",
    "        self.cbr1 = CBR(3, 64, kernel_size=7, stride=2, padding=3)\n",
    "        self.atmap = AttentionBlock(64)\n",
    "        self.cbr2 = CBR(64, 64, kernel_size=7, stride=2, padding=3)\n",
    "        self.pool = nn.MaxPool2d(kernel_size=3, stride=2, padding=1)\n",
    "\n",
    "        self.block0 = self._build_resblock(256, channel_in=64)\n",
    "        self.block1 = nn.ModuleList([self._build_resblock(256) for _ in range(2)])\n",
    "\n",
    "        self.conv2 = nn.Conv2d(256, 512, kernel_size=1, stride=2)\n",
    "        self.block2 = nn.ModuleList([self._build_resblock(512) for _ in range(4)])\n",
    "\n",
    "        self.conv3 = nn.Conv2d(512, 1024, kernel_size=1, stride=2)\n",
    "        self.block3 = nn.ModuleList([self._build_resblock(1024) for _ in range(6)])\n",
    "\n",
    "        self.conv4 = nn.Conv2d(1024, 2048, kernel_size=1, stride=2)\n",
    "        self.block4 = nn.ModuleList([self._build_resblock(2048) for _ in range(3)])\n",
    "\n",
    "        self.avg_pool = GlobalAvgPool2d()\n",
    "        self.fc1 = nn.Linear(2048, 1000)\n",
    "        self.fc2 = nn.Linear(1000, 100)\n",
    "        self.out = nn.Linear(100, 9)\n",
    "\n",
    "    @profile\n",
    "    def forward(self, x):\n",
    "        h = self.cbr1(x)\n",
    "        h = self.atmap(h)\n",
    "        h = self.cbr2(h)\n",
    "        h = self.pool(h)\n",
    "        h = self.block0(h)\n",
    "        for block in self.block1:\n",
    "            h = block(h)\n",
    "        h = self.conv2(h)\n",
    "        for block in self.block2:\n",
    "            h = block(h)\n",
    "        h = self.conv3(h)\n",
    "        for block in self.block3:\n",
    "            h = block(h)\n",
    "        h = self.conv4(h)\n",
    "        for block in self.block4:\n",
    "            h = block(h)\n",
    "        h = self.avg_pool(h)\n",
    "        h = self.fc1(h)\n",
    "        h = F.relu(h)\n",
    "        h = self.fc2(h)\n",
    "        h = F.relu(h)\n",
    "        h = self.out(h)\n",
    "        y = torch.sigmoid(h)\n",
    "        return y\n",
    "\n",
    "    def _build_resblock(self, channel_out, channel_in=None):\n",
    "        if channel_in is None:\n",
    "            channel_in = channel_out\n",
    "        return ResBlock(channel_in, channel_out)"
   ]
  }
 ],
 "metadata": {
  "jupytext": {
   "text_representation": {
    "extension": ".py",
    "format_name": "light",
    "format_version": "1.5",
    "jupytext_version": "1.6.0"
   }
  },
  "kernelspec": {
   "display_name": "Python 3",
   "language": "python",
   "name": "python3"
  },
  "language_info": {
   "codemirror_mode": {
    "name": "ipython",
    "version": 3
   },
   "file_extension": ".py",
   "mimetype": "text/x-python",
   "name": "python",
   "nbconvert_exporter": "python",
   "pygments_lexer": "ipython3",
   "version": "3.7.9"
  }
 },
 "nbformat": 4,
 "nbformat_minor": 4
}
