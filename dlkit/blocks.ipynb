{
 "cells": [
  {
   "cell_type": "code",
   "execution_count": 1,
   "metadata": {},
   "outputs": [],
   "source": [
    "import torch\n",
    "import torch.nn as nn\n",
    "import torch.nn.functional as F\n",
    "from pytorch_memlab import profile"
   ]
  },
  {
   "cell_type": "markdown",
   "metadata": {},
   "source": [
    "## Residual Block"
   ]
  },
  {
   "cell_type": "code",
   "execution_count": 2,
   "metadata": {},
   "outputs": [],
   "source": [
    "class ResBlock(nn.Module):\n",
    "    def __init__(self, channel_in, channel_out):\n",
    "        super().__init__()\n",
    "        channel = channel_out // 4\n",
    "        self.cbr1 = CBR(channel_in, channel, kernel_size=1)\n",
    "        self.cbr2 = CBR(channel, channel, kernel_size=3, padding=1)\n",
    "        self.conv = nn.Conv2d(channel, channel_out, kernel_size=1, padding=0)\n",
    "        self.bn = nn.BatchNorm2d(channel_out)\n",
    "        self.shortcut = self._shortcut(channel_in, channel_out)\n",
    "        self.relu = nn.ReLU()\n",
    "\n",
    "    @profile\n",
    "    def forward(self, x):\n",
    "        h = self.cbr1(x)\n",
    "        h = self.cbr2(h)\n",
    "        h = self.conv(h)\n",
    "        h = self.bn(h)\n",
    "        shortcut = self.shortcut(x)\n",
    "        y = self.relu(h + shortcut)\n",
    "\n",
    "        return y\n",
    "\n",
    "    def _shortcut(self, channel_in, channel_out):\n",
    "        if channel_in != channel_out:\n",
    "            return self._projection(channel_in, channel_out)\n",
    "        else:\n",
    "            return lambda x: x\n",
    "\n",
    "    def _projection(self, channel_in, channel_out):\n",
    "        return nn.Conv2d(channel_in, channel_out, kernel_size=(1, 1), padding=0)"
   ]
  },
  {
   "cell_type": "markdown",
   "metadata": {},
   "source": [
    "## Attention Block"
   ]
  },
  {
   "cell_type": "code",
   "execution_count": 3,
   "metadata": {},
   "outputs": [],
   "source": [
    "class AttentionBlock(nn.Module):\n",
    "    def __init__(self, channel_in):\n",
    "        super().__init__()\n",
    "        channel = channel_in // 4\n",
    "        self.cbr = CBR(channel_in, channel, kernel_size=3, padding=1)\n",
    "        self.conv = nn.Conv2d(channel, 1, kernel_size=3, padding=1)\n",
    "        self.sig = nn.Sigmoid()\n",
    "\n",
    "    def forward(self, x):\n",
    "        h = self.cbr(x)\n",
    "        h = self.conv(h)\n",
    "        y = self.sig(h * x)\n",
    "\n",
    "        return y"
   ]
  },
  {
   "cell_type": "markdown",
   "metadata": {},
   "source": [
    "## Squeeze & Excitation Block"
   ]
  },
  {
   "cell_type": "code",
   "execution_count": 4,
   "metadata": {},
   "outputs": [],
   "source": [
    "class SEBlock(nn.Module):\n",
    "    def __init__(self, channel_in):\n",
    "        super().__init__()\n",
    "        self.avg_pool = GlobalAvgPool2d()\n",
    "        self.conv1 = nn.Conv2d(channel_in, channel_in // 4, kernel_size=1)\n",
    "        self.relu = nn.ReLU()\n",
    "        self.conv2 = nn.Conv2d(channel_in // 4, channel_in, kernel_size=1)\n",
    "        self.sig = nn.Sigmoid()\n",
    "\n",
    "    def forward(self, x):\n",
    "        h = self.avg_pool(x)\n",
    "        h = self.conv1(h)\n",
    "        h = self.relu(h)\n",
    "        h = self.conv2(h)\n",
    "        y = self.sig(h * x)\n",
    "\n",
    "        return y"
   ]
  },
  {
   "cell_type": "markdown",
   "metadata": {},
   "source": [
    "## Global Average Pooling"
   ]
  },
  {
   "cell_type": "code",
   "execution_count": 5,
   "metadata": {},
   "outputs": [],
   "source": [
    "class GlobalAvgPool2d(nn.Module):\n",
    "    def __init__(self):\n",
    "        super().__init__()\n",
    "\n",
    "    def forward(self, x):\n",
    "        return F.avg_pool2d(x, kernel_size=x.size()[2:]).view(-1, x.size(1))"
   ]
  },
  {
   "cell_type": "markdown",
   "metadata": {},
   "source": [
    "## Convolution + Batch Normalization + ReLU"
   ]
  },
  {
   "cell_type": "code",
   "execution_count": null,
   "metadata": {},
   "outputs": [],
   "source": [
    "class CBR(nn.Module):\n",
    "    def __init__(self, channel_in, channel_out, kernel_size, stride=1, padding=0):\n",
    "        super().__init__()\n",
    "        self.conv = nn.Conv2d(\n",
    "            channel_in,\n",
    "            channel_out,\n",
    "            kernel_size=kernel_size,\n",
    "            stride=stride,\n",
    "            padding=padding,\n",
    "        )\n",
    "        self.bn = nn.BatchNorm2d(channel_out)\n",
    "        self.relu = nn.ReLU()\n",
    "\n",
    "    def forward(self, x):\n",
    "        x = self.conv(x)\n",
    "        x = self.bn(x)\n",
    "        x = self.relu(x)\n",
    "        return x"
   ]
  }
 ],
 "metadata": {
  "jupytext": {
   "text_representation": {
    "extension": ".py",
    "format_name": "light",
    "format_version": "1.5",
    "jupytext_version": "1.6.0"
   }
  },
  "kernelspec": {
   "display_name": "Python 3",
   "language": "python",
   "name": "python3"
  },
  "language_info": {
   "codemirror_mode": {
    "name": "ipython",
    "version": 3
   },
   "file_extension": ".py",
   "mimetype": "text/x-python",
   "name": "python",
   "nbconvert_exporter": "python",
   "pygments_lexer": "ipython3",
   "version": "3.7.9"
  }
 },
 "nbformat": 4,
 "nbformat_minor": 4
}
