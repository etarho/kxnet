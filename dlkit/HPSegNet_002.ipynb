{
 "cells": [
  {
   "cell_type": "markdown",
   "metadata": {},
   "source": [
    "# HPSegNet"
   ]
  },
  {
   "cell_type": "code",
   "execution_count": 1,
   "metadata": {},
   "outputs": [],
   "source": [
    "import torch\n",
    "import torch.nn as nn\n",
    "import torch.nn.functional as F\n",
    "from pytorch_memlab import profile"
   ]
  },
  {
   "cell_type": "markdown",
   "metadata": {},
   "source": [
    "## Define Network Architecture"
   ]
  },
  {
   "cell_type": "code",
   "execution_count": 2,
   "metadata": {},
   "outputs": [],
   "source": [
    "class HPNet(nn.Module):\n",
    "    def __init__(self):\n",
    "        super().__init__()\n",
    "        self.conv1 = nn.Conv2d(3, 64, kernel_size=(7, 7), stride=(2, 2), padding=3)\n",
    "        self.bn = nn.BatchNorm2d(64)\n",
    "        self.relu = nn.ReLU()\n",
    "        self.pool = nn.MaxPool2d(kernel_size=(3, 3), stride=(2, 2), padding=1)\n",
    "\n",
    "        self.block0 = self._building_block(256, channel_in=64)\n",
    "        self.block1 = nn.ModuleList([self._building_block(256) for _ in range(2)])\n",
    "\n",
    "        self.conv2 = nn.Conv2d(256, 512, kernel_size=(1, 1), stride=(2, 2))\n",
    "        self.block2 = nn.ModuleList([self._building_block(512) for _ in range(4)])\n",
    "\n",
    "        self.conv3 = nn.Conv2d(512, 1024, kernel_size=(1, 1), stride=(2, 2))\n",
    "        self.block3 = nn.ModuleList([self._building_block(1024) for _ in range(6)])\n",
    "\n",
    "        self.conv4 = nn.Conv2d(1024, 2048, kernel_size=(1, 1), stride=(2, 2))\n",
    "        self.block4 = nn.ModuleList([self._building_block(2048) for _ in range(3)])\n",
    "\n",
    "        self.avg_pool = GlobalAvgPool2d()\n",
    "        self.fc1 = nn.Linear(2048, 1000)\n",
    "        self.fc2 = nn.Linear(1000, 100)\n",
    "        self.out = nn.Linear(100, 9)\n",
    "\n",
    "    @profile\n",
    "    def forward(self, x):\n",
    "        h = self.conv1(x)\n",
    "        h = self.bn(h)\n",
    "        h = self.relu(h)\n",
    "        h = self.pool(h)\n",
    "        h = self.block0(h)\n",
    "        for block in self.block1:\n",
    "            h = block(h)\n",
    "        h = self.conv2(h)\n",
    "        for block in self.block2:\n",
    "            h = block(h)\n",
    "        h = self.conv3(h)\n",
    "        for block in self.block3:\n",
    "            h = block(h)\n",
    "        h = self.conv4(h)\n",
    "        for block in self.block4:\n",
    "            h = block(h)\n",
    "        h = self.avg_pool(h)\n",
    "        h = self.fc1(h)\n",
    "        h = F.relu(h)\n",
    "        h = self.fc2(h)\n",
    "        h = F.relu(h)\n",
    "        h = self.out(h)\n",
    "        y = torch.sigmoid(h)\n",
    "        return y\n",
    "\n",
    "    def _building_block(self, channel_out, channel_in=None):\n",
    "        if channel_in is None:\n",
    "            channel_in = channel_out\n",
    "        return ResBlock(channel_in, channel_out)"
   ]
  },
  {
   "cell_type": "code",
   "execution_count": 3,
   "metadata": {},
   "outputs": [],
   "source": [
    "class ResBlock(nn.Module):\n",
    "    def __init__(self, channel_in, channel_out):\n",
    "        super().__init__()\n",
    "        channel = channel_out // 4\n",
    "        self.conv1 = nn.Conv2d(channel_in, channel, kernel_size=(1, 1))\n",
    "        self.bn1 = nn.BatchNorm2d(channel)\n",
    "        self.relu1 = nn.ReLU()\n",
    "\n",
    "        self.conv2 = nn.Conv2d(channel, channel, kernel_size=(3, 3), padding=1)\n",
    "        self.bn2 = nn.BatchNorm2d(channel)\n",
    "        self.relu2 = nn.ReLU()\n",
    "\n",
    "        self.conv3 = nn.Conv2d(channel, channel_out, kernel_size=(1, 1), padding=0)\n",
    "        self.bn3 = nn.BatchNorm2d(channel_out)\n",
    "        self.shortcut = self._shortcut(channel_in, channel_out)\n",
    "        self.relu3 = nn.ReLU()\n",
    "\n",
    "    @profile\n",
    "    def forward(self, x):\n",
    "        h = self.conv1(x)\n",
    "        h = self.bn1(h)\n",
    "        h = self.relu1(h)\n",
    "        h = self.conv2(h)\n",
    "        h = self.bn2(h)\n",
    "        h = self.relu2(h)\n",
    "        h = self.conv3(h)\n",
    "        h = self.bn3(h)\n",
    "        shortcut = self.shortcut(x)\n",
    "        y = self.relu3(h + shortcut)\n",
    "\n",
    "        return y\n",
    "\n",
    "    def _shortcut(self, channel_in, channel_out):\n",
    "        if channel_in != channel_out:\n",
    "            return self._projection(channel_in, channel_out)\n",
    "        else:\n",
    "            return lambda x: x\n",
    "\n",
    "    def _projection(self, channel_in, channel_out):\n",
    "        return nn.Conv2d(channel_in, channel_out, kernel_size=(1, 1), padding=0)"
   ]
  },
  {
   "cell_type": "code",
   "execution_count": 4,
   "metadata": {},
   "outputs": [],
   "source": [
    "class AttentionBlock(nn.Module):\n",
    "    def __init__(self, channel_in):\n",
    "        super().__init__()\n",
    "        channel = channel_in // 4\n",
    "        self.conv1 = nn.Conv2d(channel_in, channel, kernel_size=(3, 3), padding=1)\n",
    "        self.bn = nn.BatchNorm2d(channel)\n",
    "        self.relu = nn.ReLU()\n",
    "        self.conv2 = nn.Conv2d(channel, 1, kernel_size=(3, 3), padding=1)\n",
    "        self.sig = nn.Sigmoid()\n",
    "\n",
    "    def forward(self, x):\n",
    "        h = self.conv1(x)\n",
    "        h = self.bn(h)\n",
    "        h = self.relu(h)\n",
    "        h = self.conv2(h)\n",
    "        y = self.sig(h)\n",
    "\n",
    "        return y"
   ]
  },
  {
   "cell_type": "code",
   "execution_count": 6,
   "metadata": {},
   "outputs": [],
   "source": [
    "class SEBlock(nn.Module):\n",
    "    def __init__(self, channel_in):\n",
    "        super().__init__()\n",
    "        self.avg_pool = GlobalAvgPool2d()\n",
    "        self.fc1 = nn.Linear(channel_in, channel_in // 4)\n",
    "        self.relu = nn.ReLU()\n",
    "        self.fc2 = nn.Linear(channel_in // 4, channel_in)\n",
    "        self.sig = nn.Sigmoid()\n",
    "\n",
    "    def forward(self, x):\n",
    "        h = self.avg_pool(x)\n",
    "        h = self.fc1(h)\n",
    "        h = self.relu(h)\n",
    "        h = self.fc2(h)\n",
    "        y = self.sig(h)\n",
    "\n",
    "        return y"
   ]
  },
  {
   "cell_type": "code",
   "execution_count": 7,
   "metadata": {},
   "outputs": [],
   "source": [
    "class GlobalAvgPool2d(nn.Module):\n",
    "    def __init__(self):\n",
    "        super().__init__()\n",
    "\n",
    "    def forward(self, x):\n",
    "        return F.avg_pool2d(x, kernel_size=x.size()[2:]).view(-1, x.size(1))"
   ]
  }
 ],
 "metadata": {
  "jupytext": {
   "text_representation": {
    "extension": ".py",
    "format_name": "light",
    "format_version": "1.5",
    "jupytext_version": "1.6.0"
   }
  },
  "kernelspec": {
   "display_name": "Python 3",
   "language": "python",
   "name": "python3"
  },
  "language_info": {
   "codemirror_mode": {
    "name": "ipython",
    "version": 3
   },
   "file_extension": ".py",
   "mimetype": "text/x-python",
   "name": "python",
   "nbconvert_exporter": "python",
   "pygments_lexer": "ipython3",
   "version": "3.7.9"
  }
 },
 "nbformat": 4,
 "nbformat_minor": 4
}
