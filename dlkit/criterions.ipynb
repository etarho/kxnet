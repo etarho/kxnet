{
 "cells": [
  {
   "cell_type": "code",
   "execution_count": 1,
   "metadata": {},
   "outputs": [],
   "source": [
    "import torch.nn as nn"
   ]
  },
  {
   "cell_type": "code",
   "execution_count": 2,
   "metadata": {},
   "outputs": [],
   "source": [
    "class Criterion:\n",
    "\n",
    "    def __init__(self, mode):\n",
    "\n",
    "        self.mode = mode\n",
    "\n",
    "        if mode == 'mae':\n",
    "            self.criterion = nn.L1Loss()\n",
    "\n",
    "        if mode == 'mse':\n",
    "            self.criterion = nn.MSELoss()\n",
    "\n",
    "        if mode == 'huber':\n",
    "            self.criterion = nn.SmoothL1Loss()\n",
    "\n",
    "        if mode == 'cos':\n",
    "            self.criterion = nn.CosineSimilarity()\n",
    "\n",
    "    def __call__(self, pred, target):\n",
    "        if self.mode == 'cos':\n",
    "            return 1 - self.criterion(pred, target).mean()\n",
    "\n",
    "        else:\n",
    "            return self.criterion(pred, target)"
   ]
  }
 ],
 "metadata": {
  "jupytext": {
   "text_representation": {
    "extension": ".py",
    "format_name": "light",
    "format_version": "1.5",
    "jupytext_version": "1.6.0"
   }
  },
  "kernelspec": {
   "display_name": "Python 3",
   "language": "python",
   "name": "python3"
  },
  "language_info": {
   "codemirror_mode": {
    "name": "ipython",
    "version": 3
   },
   "file_extension": ".py",
   "mimetype": "text/x-python",
   "name": "python",
   "nbconvert_exporter": "python",
   "pygments_lexer": "ipython3",
   "version": "3.7.9"
  }
 },
 "nbformat": 4,
 "nbformat_minor": 4
}
