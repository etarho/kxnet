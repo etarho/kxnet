{
 "cells": [
  {
   "cell_type": "code",
   "execution_count": null,
   "metadata": {
    "lines_to_next_cell": 2
   },
   "outputs": [],
   "source": [
    "# Import libraries\n",
    "import os\n",
    "import argparse\n",
    "import yaml\n",
    "import numpy as np\n",
    "from random import uniform, random\n",
    "import pandas as pd\n",
    "from scipy.spatial.transform import Rotation\n",
    "import seaborn\n",
    "import matplotlib.pyplot as plt\n",
    "import importlib"
   ]
  },
  {
   "cell_type": "code",
   "execution_count": null,
   "metadata": {},
   "outputs": [],
   "source": [
    "os.chdir(\"../..\")"
   ]
  },
  {
   "cell_type": "code",
   "execution_count": null,
   "metadata": {},
   "outputs": [],
   "source": [
    "rep = importlib.import_module(\"utils.reprojection\")"
   ]
  },
  {
   "cell_type": "code",
   "execution_count": null,
   "metadata": {
    "lines_to_next_cell": 2
   },
   "outputs": [],
   "source": [
    "# Args\n",
    "args = argparse.ArgumentParser()\n",
    "args.add_argument(\n",
    "    \"-train\",\n",
    "    \"--train-sample-num\",\n",
    "    default=10000,\n",
    "    type=int,\n",
    "    help=\"the number of training data\",\n",
    ")\n",
    "args.add_argument(\n",
    "    \"-val\",\n",
    "    \"--val-sample-num\",\n",
    "    default=2000,\n",
    "    type=int,\n",
    "    help=\"the number of validation data\",\n",
    ")\n",
    "args.add_argument(\"--x-min\", default=13, help=\"x min [mm]\")\n",
    "args.add_argument(\"--y-min\", default=6.5, help=\"y min [mm]\")\n",
    "args.add_argument(\"--z-min\", default=40, help=\"z min [mm]\")\n",
    "args.add_argument(\"--z-max\", default=100, help=\"z max [mm]\")\n",
    "args.add_argument(\"--alpha-min\", default=-60, help=\"alpha min [deg]\")\n",
    "args.add_argument(\"--alpha-max\", default=60, help=\"alpha max [deg]\")\n",
    "args.add_argument(\"--beta-min\", default=-60, help=\"beta min [deg]\")\n",
    "args.add_argument(\"--beta-max\", default=60, help=\"beta max [deg]\")\n",
    "args.add_argument(\"--gamma-min\", default=-179, help=\"gamma min [deg]\")\n",
    "args.add_argument(\"--gamma-max\", default=179, help=\"gamma max [deg]\")\n",
    "args.add_argument(\"--phi-max\", default=45, help=\"max opening angle of the edge [deg]\")"
   ]
  },
  {
   "cell_type": "code",
   "execution_count": null,
   "metadata": {},
   "outputs": [],
   "source": [
    "conf = args.parse_args(args=[])"
   ]
  },
  {
   "cell_type": "markdown",
   "metadata": {},
   "source": [
    "### Origin-Line Distance (3D)\n",
    "Position: $\\ \\vec{r} = (\\alpha, \\beta, \\gamma)$\\\n",
    "Direction vector: $\\ \\vec{n} = (n_x, n_y, n_z)$\\\n",
    "Line: $\\ \\vec{p}(t) = \\vec{r} + t\\vec{n}$\\\n",
    "$$\n",
    "\\vec{p}(h)\\cdot\\vec{n} = 0 \\\\\n",
    "h = - \\frac{\\vec{r}\\cdot\\vec{n}}{\\|\\vec{n}\\|^2} \\\\\n",
    "d = \\|\\vec{r}-h\\vec{n}\\|_2\n",
    "$$"
   ]
  },
  {
   "cell_type": "code",
   "execution_count": null,
   "metadata": {},
   "outputs": [],
   "source": [
    "def o2line(r, n):\n",
    "    s = 0\n",
    "    for i in range(3):\n",
    "        s += (r[i] - np.dot(r, n) / ((np.linalg.norm(n, ord=2)) ** 2) * n[i]) ** 2\n",
    "    return np.sqrt(s)"
   ]
  },
  {
   "cell_type": "markdown",
   "metadata": {},
   "source": [
    "### Make a dataset directory"
   ]
  },
  {
   "cell_type": "code",
   "execution_count": null,
   "metadata": {},
   "outputs": [],
   "source": [
    "ds_num = 1  # Initialize ds_num\n",
    "while True:\n",
    "    ds_dir = \"Database/ds_{:03d}\".format(ds_num)\n",
    "    if not os.path.exists(ds_dir):\n",
    "        os.makedirs(ds_dir)\n",
    "        os.makedirs(ds_dir + \"/train\")\n",
    "        os.makedirs(ds_dir + \"/val\")\n",
    "        break\n",
    "\n",
    "    else:\n",
    "        ds_num += 1\n",
    "        continue"
   ]
  },
  {
   "cell_type": "code",
   "execution_count": null,
   "metadata": {},
   "outputs": [],
   "source": [
    "sample_num_dict = {\"train\": conf.train_sample_num, \"val\": conf.val_sample_num}"
   ]
  },
  {
   "cell_type": "markdown",
   "metadata": {},
   "source": [
    "### Parameters\n",
    "$$\n",
    "\\theta = \\{x, y, z, x_{2d}, y_{2d}, n_x, n_y, n_z, \\phi, \\gamma, \\alpha, \\beta\\}\n",
    "$$"
   ]
  },
  {
   "cell_type": "code",
   "execution_count": null,
   "metadata": {},
   "outputs": [],
   "source": [
    "phase_dict = {\"train\": \"training\", \"val\": \"validation\"}\n",
    "\n",
    "\n",
    "def make_csv():\n",
    "    for phase in [\"train\", \"val\"]:\n",
    "        data = []\n",
    "        i = 0\n",
    "        while i < sample_num_dict[phase]:\n",
    "            # Position\n",
    "            z = uniform(conf.z_min, conf.z_max)\n",
    "            x_range = conf.x_min * (z / conf.z_min)\n",
    "            y_range = conf.y_min * (z / conf.z_min)\n",
    "            x = uniform(-x_range, x_range)\n",
    "            y = uniform(-y_range, y_range)\n",
    "            r = np.array([x, y, z])\n",
    "\n",
    "            # 2D position\n",
    "            x_2d, y_2d = rep.repon2plane(r, a_ratio=(16, 9), fov=70)\n",
    "\n",
    "            alpha = uniform(\n",
    "                conf.alpha_min, conf.alpha_max\n",
    "            )  # Rotation around local x-axis\n",
    "            beta = uniform(conf.beta_min, conf.beta_max)  # Rotation around local y-axis\n",
    "            gamma = uniform(\n",
    "                conf.gamma_min, conf.gamma_max\n",
    "            )  # Rotation around local z-axis\n",
    "\n",
    "            rot_matrix = Rotation.from_euler(\"zxy\", [gamma, alpha, beta], degrees=True)\n",
    "\n",
    "            n0 = np.array([0.0, 0.0, -1.0])  # Initial vector\n",
    "            n = rot_matrix.apply(n0)  # Direction vector\n",
    "\n",
    "            phi = uniform(0, conf.phi_max)\n",
    "\n",
    "            if n[2] >= -0.5 or o2line(r, n) < 5:\n",
    "                continue\n",
    "            else:\n",
    "                row = [x, y, -z, n[0], n[1], n[2], phi, gamma, alpha, beta, x_2d, y_2d]\n",
    "                data.append(row)\n",
    "                i += 1\n",
    "\n",
    "        df = pd.DataFrame(\n",
    "            data=data,\n",
    "            columns=[\n",
    "                \"x\",\n",
    "                \"y\",\n",
    "                \"z\",\n",
    "                \"nx\",\n",
    "                \"ny\",\n",
    "                \"nz\",\n",
    "                \"phi\",\n",
    "                \"gamma\",\n",
    "                \"alpha\",\n",
    "                \"beta\",\n",
    "                \"x_2d\",\n",
    "                \"y_2d\",\n",
    "            ],\n",
    "        )\n",
    "\n",
    "        alpha_list = [row[8] for row in data]\n",
    "        beta_list = [row[9] for row in data]\n",
    "        gamma_list = [row[7] for row in data]\n",
    "        nx_list = [row[3] for row in data]\n",
    "        ny_list = [row[4] for row in data]\n",
    "        nz_list = [row[5] for row in data]\n",
    "\n",
    "        fig, (ax1, ax2) = plt.subplots(ncols=2, figsize=(10, 4))\n",
    "        ax1.hist(\n",
    "            [alpha_list, beta_list, gamma_list],\n",
    "            bins=36,\n",
    "            range=(-180, 180),\n",
    "            label=[r\"$\\alpha$\", r\"$\\beta$\", r\"$\\gamma$\"],\n",
    "        )\n",
    "        ax1.legend()\n",
    "        ax1.set_title(phase_dict[phase].capitalize())\n",
    "        ax1.set_xlabel(\"Degrees\")\n",
    "        ax1.set_ylabel(\"Frequency\")\n",
    "        ax2.hist(\n",
    "            [nx_list, ny_list, nz_list],\n",
    "            bins=40,\n",
    "            range=(-1, 1),\n",
    "            label=[r\"$n_x$\", r\"$n_y$\", r\"$n_z$\"],\n",
    "        )\n",
    "        ax2.legend()\n",
    "        ax2.set_title(phase_dict[phase].capitalize())\n",
    "        ax2.set_xlabel(r\"$[a.u.]$\")\n",
    "        ax2.set_ylabel(\"Frequency\")\n",
    "        fig.savefig(ds_dir + \"/{}_data_distribution.png\".format(phase), dpi=300)\n",
    "\n",
    "        # save as csv\n",
    "        df.to_csv(ds_dir + \"/{}_{:03d}.csv\".format(phase, ds_num), index=False)\n",
    "\n",
    "        yml = {\n",
    "            \"pose\": {\"euler\": {\"axis\": \"zxy\", \"rotation\": \"intrinsic\"}},\n",
    "            \"translation\": {\n",
    "                \"x_range\": 65,\n",
    "                \"y_range\": 35,\n",
    "                \"z_min\": conf.z_min,\n",
    "                \"z_max\": conf.z_max,\n",
    "            },\n",
    "            \"articulation\": {\"phi_max\": conf.phi_max},\n",
    "            \"data\": {\"train\": conf.train_sample_num, \"val\": conf.val_sample_num},\n",
    "            \"params\": 12,\n",
    "            \"o2line\": 5,\n",
    "        }\n",
    "\n",
    "        with open(ds_dir + \"/ds_config.yaml\", \"w\") as file:\n",
    "            yaml.dump(yml, file, default_flow_style=False)"
   ]
  },
  {
   "cell_type": "code",
   "execution_count": null,
   "metadata": {},
   "outputs": [],
   "source": [
    "make_csv()"
   ]
  },
  {
   "cell_type": "code",
   "execution_count": null,
   "metadata": {},
   "outputs": [],
   "source": [
    "print(\n",
    "    \"\\n=========================\\n\"\n",
    "    \"PROCESS COMPLETED    \\n\"\n",
    "    \"=========================\\n\"\n",
    ")"
   ]
  }
 ],
 "metadata": {
  "jupytext": {
   "text_representation": {
    "extension": ".py",
    "format_name": "light",
    "format_version": "1.5",
    "jupytext_version": "1.5.1"
   }
  },
  "kernelspec": {
   "display_name": "Python 3",
   "language": "python",
   "name": "python3"
  },
  "language_info": {
   "codemirror_mode": {
    "name": "ipython",
    "version": 3
   },
   "file_extension": ".py",
   "mimetype": "text/x-python",
   "name": "python",
   "nbconvert_exporter": "python",
   "pygments_lexer": "ipython3",
   "version": "3.7.9"
  }
 },
 "nbformat": 4,
 "nbformat_minor": 4
}
