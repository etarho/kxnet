{
 "cells": [
  {
   "cell_type": "code",
   "execution_count": 1,
   "metadata": {},
   "outputs": [],
   "source": [
    "import cv2\n",
    "import matplotlib.pyplot as plt\n",
    "import numpy as np\n",
    "import pandas as pd\n",
    "import tqdm\n",
    "import os\n",
    "\n",
    "%matplotlib inline"
   ]
  },
  {
   "cell_type": "code",
   "execution_count": 2,
   "metadata": {},
   "outputs": [
    {
     "name": "stdout",
     "output_type": "stream",
     "text": [
      "Dataset: #21\n",
      "Experiment Directory: G:/My Drive/logs/82c9718ec8e048ee810882d955b93880\n"
     ]
    }
   ],
   "source": [
    "ds_num = input(\"Dataset: #\")\n",
    "exp_dir = input(\"Experiment Directory: \")"
   ]
  },
  {
   "cell_type": "code",
   "execution_count": 3,
   "metadata": {},
   "outputs": [],
   "source": [
    "if os.path.exists(exp_dir + \"/artifacts/overlay\"):\n",
    "    print(\"Directory already exists\")\n",
    "    pass\n",
    "else:\n",
    "    os.mkdir(exp_dir + \"/artifacts/overlay\")"
   ]
  },
  {
   "cell_type": "code",
   "execution_count": 4,
   "metadata": {},
   "outputs": [],
   "source": [
    "df = pd.read_csv(exp_dir + \"/artifacts/pred_{:03d}_copy.csv\".format(int(ds_num)))"
   ]
  },
  {
   "cell_type": "code",
   "execution_count": 5,
   "metadata": {},
   "outputs": [],
   "source": [
    "def get_info(df, line):\n",
    "    value = []\n",
    "    params = [\"e_trans3d\", \"e_trans2d\", \"e_orient\", \"e_phi\", \"e_gamma\"]\n",
    "    for param in params:\n",
    "        value.append(str(round(df[param][line], 2)))\n",
    "\n",
    "    return value"
   ]
  },
  {
   "cell_type": "code",
   "execution_count": 8,
   "metadata": {},
   "outputs": [
    {
     "name": "stderr",
     "output_type": "stream",
     "text": [
      "100%|████████████████████████████████████████████████████████████████████████████████| 100/100 [02:41<00:00,  1.61s/it]\n"
     ]
    }
   ],
   "source": [
    "for i in tqdm.trange(100):\n",
    "    orig = cv2.imread(\"../../Database/ds_021/val/img_{:05d}.jpg\".format(i + 1))\n",
    "    pred = cv2.imread(exp_dir + \"/artifacts/pred_imgs/img_{:05d}.png\".format(i + 1))\n",
    "    orig = cv2.cvtColor(orig, cv2.COLOR_BGR2RGBA)\n",
    "    pred = cv2.cvtColor(pred, cv2.COLOR_BGRA2RGBA)\n",
    "    #     pred[:, :, 0:2] = 0\n",
    "    blended = cv2.addWeighted(src1=orig, alpha=0.8, src2=pred, beta=0.4, gamma=0)\n",
    "    im = cv2.cvtColor(blended, cv2.COLOR_RGBA2BGR)\n",
    "    info = get_info(df, i)\n",
    "\n",
    "    txt0 = \"Error (3D):     {} mm\".format(info[0])\n",
    "    txt1 = \"Error (2D):     {} px\".format(info[1])\n",
    "    txt2 = \"Error (Orient): {} deg\".format(info[2])\n",
    "    txt3 = \"Error (Joint):  {} deg\".format(info[3])\n",
    "    txt4 = \"Error (Roll):   {} deg\".format(info[4])\n",
    "\n",
    "    im = cv2.putText(\n",
    "        im,\n",
    "        txt0,\n",
    "        (50, 70),\n",
    "        cv2.FONT_HERSHEY_SIMPLEX,\n",
    "        1,\n",
    "        (\n",
    "            255,\n",
    "            255,\n",
    "            0,\n",
    "        ),\n",
    "        2,\n",
    "    )\n",
    "    im = cv2.putText(\n",
    "        im,\n",
    "        txt1,\n",
    "        (50, 120),\n",
    "        cv2.FONT_HERSHEY_SIMPLEX,\n",
    "        1,\n",
    "        (\n",
    "            255,\n",
    "            255,\n",
    "            0,\n",
    "        ),\n",
    "        2,\n",
    "    )\n",
    "    im = cv2.putText(\n",
    "        im,\n",
    "        txt2,\n",
    "        (50, 170),\n",
    "        cv2.FONT_HERSHEY_SIMPLEX,\n",
    "        1,\n",
    "        (\n",
    "            255,\n",
    "            255,\n",
    "            0,\n",
    "        ),\n",
    "        2,\n",
    "    )\n",
    "    im = cv2.putText(\n",
    "        im,\n",
    "        txt3,\n",
    "        (50, 220),\n",
    "        cv2.FONT_HERSHEY_SIMPLEX,\n",
    "        1,\n",
    "        (\n",
    "            255,\n",
    "            255,\n",
    "            0,\n",
    "        ),\n",
    "        2,\n",
    "    )\n",
    "    im = cv2.putText(\n",
    "        im,\n",
    "        txt4,\n",
    "        (50, 270),\n",
    "        cv2.FONT_HERSHEY_SIMPLEX,\n",
    "        1,\n",
    "        (\n",
    "            255,\n",
    "            255,\n",
    "            0,\n",
    "        ),\n",
    "        2,\n",
    "    )\n",
    "    cv2.imwrite(exp_dir + \"/artifacts/overlay/img_{:05d}.png\".format(i + 1), im)"
   ]
  },
  {
   "cell_type": "code",
   "execution_count": null,
   "metadata": {},
   "outputs": [],
   "source": []
  }
 ],
 "metadata": {
  "jupytext": {
   "text_representation": {
    "extension": ".py",
    "format_name": "light",
    "format_version": "1.5",
    "jupytext_version": "1.5.1"
   }
  },
  "kernelspec": {
   "display_name": "Python 3",
   "language": "python",
   "name": "python3"
  },
  "language_info": {
   "codemirror_mode": {
    "name": "ipython",
    "version": 3
   },
   "file_extension": ".py",
   "mimetype": "text/x-python",
   "name": "python",
   "nbconvert_exporter": "python",
   "pygments_lexer": "ipython3",
   "version": "3.7.9"
  }
 },
 "nbformat": 4,
 "nbformat_minor": 4
}
