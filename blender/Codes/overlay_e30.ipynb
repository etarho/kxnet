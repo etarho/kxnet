{
 "cells": [
  {
   "cell_type": "code",
   "execution_count": 1,
   "metadata": {},
   "outputs": [],
   "source": [
    "import cv2\n",
    "import matplotlib.pyplot as plt\n",
    "import numpy as np\n",
    "import pandas as pd\n",
    "import tqdm\n",
    "import os\n",
    "\n",
    "%matplotlib inline"
   ]
  },
  {
   "cell_type": "code",
   "execution_count": 2,
   "metadata": {},
   "outputs": [
    {
     "name": "stdout",
     "output_type": "stream",
     "text": [
      "Dataset: #21\n",
      "Experiment Directory: G:/My Drive/logs/82c9718ec8e048ee810882d955b93880\n"
     ]
    }
   ],
   "source": [
    "ds_num = input(\"Dataset: #\")\n",
    "exp_dir = input(\"Experiment Directory: \")"
   ]
  },
  {
   "cell_type": "code",
   "execution_count": 3,
   "metadata": {},
   "outputs": [],
   "source": [
    "df = pd.read_csv(exp_dir + \"/artifacts/roll_pred_{:03d}.csv\".format(int(ds_num)))\n",
    "e30_df = pd.read_csv(exp_dir + \"/artifacts/e30.csv\", header=None)"
   ]
  },
  {
   "cell_type": "code",
   "execution_count": 4,
   "metadata": {},
   "outputs": [],
   "source": [
    "def get_info(df, line):\n",
    "    return str(round(df[\"e_gamma\"][line], 2))"
   ]
  },
  {
   "cell_type": "code",
   "execution_count": 5,
   "metadata": {},
   "outputs": [],
   "source": [
    "for i in e30_df[0]:\n",
    "    i = int(i)\n",
    "    print(i)\n",
    "    orig = cv2.imread(\"../../Database/ds_021/val/img_{:05d}.jpg\".format(i))\n",
    "    pred = cv2.imread(exp_dir + \"/artifacts/e30/img_{:05d}.png\".format(i))\n",
    "    orig = cv2.cvtColor(orig, cv2.COLOR_BGR2RGBA)\n",
    "    pred = cv2.cvtColor(pred, cv2.COLOR_BGRA2RGBA)\n",
    "    #     pred[:, :, 0:2] = 0\n",
    "    #     blended = cv2.addWeighted(src1=orig, alpha=0.8, src2=pred, beta=0.4, gamma=0)\n",
    "    im_cat = cv2.vconcat([orig, pred])\n",
    "    im224 = cv2.resize(im_cat, (224, 448))\n",
    "    im = cv2.cvtColor(im224, cv2.COLOR_RGBA2BGR)\n",
    "    info = get_info(df, i - 1)\n",
    "\n",
    "    # txt = 'Error (Roll):   {} deg'.format(info)\n",
    "    #\n",
    "    # im = cv2.putText(im, txt, (50, 70), cv2.FONT_HERSHEY_SIMPLEX, 1, (255, 255, 0, ), 2)\n",
    "    cv2.imwrite(exp_dir + \"/artifacts/overlay_e30_224/img_{:05d}.png\".format(i), im)"
   ]
  },
  {
   "cell_type": "code",
   "execution_count": 8,
   "metadata": {},
   "outputs": [
    {
     "name": "stderr",
     "output_type": "stream",
     "text": [
      "100%|████████████████████████████████████████████████████████████████████████████████| 100/100 [02:41<00:00,  1.61s/it]\n"
     ]
    }
   ],
   "source": [
    "print(\"Finished\")"
   ]
  }
 ],
 "metadata": {
  "jupytext": {
   "text_representation": {
    "extension": ".py",
    "format_name": "light",
    "format_version": "1.5",
    "jupytext_version": "1.5.1"
   }
  },
  "kernelspec": {
   "display_name": "Python 3",
   "language": "python",
   "name": "python3"
  },
  "language_info": {
   "codemirror_mode": {
    "name": "ipython",
    "version": 3
   },
   "file_extension": ".py",
   "mimetype": "text/x-python",
   "name": "python",
   "nbconvert_exporter": "python",
   "pygments_lexer": "ipython3",
   "version": "3.7.9"
  }
 },
 "nbformat": 4,
 "nbformat_minor": 4
}
