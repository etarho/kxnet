{
 "cells": [
  {
   "cell_type": "code",
   "execution_count": 1,
   "metadata": {},
   "outputs": [],
   "source": [
    "import cv2\n",
    "import datetime\n",
    "import numpy as np\n",
    "import json\n",
    "import os.path as osp\n",
    "from tqdm import trange\n",
    "from skimage import measure\n",
    "from pycocotools import mask"
   ]
  },
  {
   "cell_type": "code",
   "execution_count": 2,
   "metadata": {},
   "outputs": [],
   "source": [
    "RED = [255, 0, 0]\n",
    "GREEN = [0, 255, 0]\n",
    "BLUE = [0, 0, 255]\n",
    "BLACK = [0, 0, 0]\n",
    "YELLOW = [255, 255, 0]\n",
    "MAGENTA = [255, 0, 255]\n",
    "CYAN = [0, 255, 255]\n",
    "\n",
    "info = {\n",
    "    \"description\": \"HPDataset 023\",\n",
    "    \"url\": \"\",\n",
    "    \"version\": \"1.0\",\n",
    "    \"year\": 2020,\n",
    "    \"contributor\": \"Kosuke Ishikawa <etarho.py@gmail.com>\",\n",
    "    \"date_created\": \"{}\".format(datetime.date.today()),\n",
    "}\n",
    "\n",
    "LICENSES = [{\"url\": \"\", \"id\": 1, \"name\": \"BMPE\"}]\n",
    "\n",
    "CATEGORIES = [\n",
    "    {\n",
    "        \"id\": 1,\n",
    "        \"name\": \"fixed_edge\",\n",
    "        \"supercategory\": \"forceps\",\n",
    "    },\n",
    "    {\n",
    "        \"id\": 2,\n",
    "        \"name\": \"shaft\",\n",
    "        \"supercategory\": \"forceps\",\n",
    "    },\n",
    "    {\n",
    "        \"id\": 3,\n",
    "        \"name\": \"opening_edge\",\n",
    "        \"supercategory\": \"forceps\",\n",
    "    },\n",
    "]"
   ]
  },
  {
   "cell_type": "code",
   "execution_count": 3,
   "metadata": {},
   "outputs": [],
   "source": [
    "class Img2Mask:\n",
    "    def __init__(self, im, threshold=100):\n",
    "        \"\"\"\n",
    "        Convert to mask\n",
    "        \"\"\"\n",
    "        self.img = im.copy()\n",
    "        self.img[im >= threshold] = 255\n",
    "        self.img[im < threshold] = 0\n",
    "\n",
    "    def __call__(self):\n",
    "        img_ = self.img.copy()\n",
    "        for color in [YELLOW, MAGENTA, CYAN]:\n",
    "            img_[np.where((self.img == color).all(axis=2))] = BLACK\n",
    "\n",
    "        return img_\n",
    "\n",
    "    def to_npmask(self):\n",
    "        img_ = np.zeros([img.shape[0], img.shape[1]])\n",
    "        for i, color in enumerate([RED, GREEN, BLUE]):\n",
    "            img_[np.where((self.img == color).all(axis=2))] = i + 1\n",
    "\n",
    "        return img_"
   ]
  },
  {
   "cell_type": "code",
   "execution_count": 4,
   "metadata": {},
   "outputs": [],
   "source": [
    "def mask2coco(npmasks, img_id, coco_dict):\n",
    "    \"\"\"\n",
    "    Convert ndarray masks to COCO json file\n",
    "    \"\"\"\n",
    "\n",
    "    images = {\n",
    "        \"license\": 1,\n",
    "        \"coco_url\": \"\",\n",
    "        \"date_captured\": \"\",\n",
    "        \"flickr_rul\": \"\",\n",
    "        \"id\": img_id,\n",
    "        \"height\": npmasks[0].shape[0],\n",
    "        \"width\": npmasks[0].shape[1],\n",
    "        \"file_name\": \"img_{:05d}.jpg\".format(img_id),\n",
    "    }\n",
    "\n",
    "    coco_dict[\"images\"].append(images)\n",
    "\n",
    "    for category, npmask in enumerate(npmasks):\n",
    "        fortran_ground_truth_binary_mask = np.asfortranarray(npmask)\n",
    "        encoded_ground_truth = mask.encode(fortran_ground_truth_binary_mask)\n",
    "        ground_truth_area = mask.area(encoded_ground_truth)\n",
    "        ground_truth_bounding_box = mask.toBbox(encoded_ground_truth)\n",
    "        contours = measure.find_contours(npmask, 0.5)\n",
    "\n",
    "        annotation = {\n",
    "            \"segmentation\": [],\n",
    "            \"area\": ground_truth_area.tolist(),\n",
    "            \"iscrowd\": 0,\n",
    "            \"image_id\": img_id,\n",
    "            \"bbox\": ground_truth_bounding_box.tolist(),\n",
    "            \"category_id\": category + 1,\n",
    "            \"id\": 1000000 + (category + 1) * 100000 + img_id,\n",
    "        }\n",
    "\n",
    "        for contour in contours:\n",
    "            contour = np.flip(contour, axis=1)\n",
    "            segmentation = contour.ravel().tolist()\n",
    "            annotation[\"segmentation\"].append(segmentation)\n",
    "\n",
    "        coco_dict[\"annotations\"].append(annotation)"
   ]
  },
  {
   "cell_type": "code",
   "execution_count": 5,
   "metadata": {},
   "outputs": [
    {
     "name": "stdin",
     "output_type": "stream",
     "text": [
      "Dataset: # 23\n"
     ]
    },
    {
     "name": "stderr",
     "output_type": "stream",
     "text": [
      "100%|██████████| 10/10 [00:08<00:00,  1.16it/s]\n",
      "100%|██████████| 2/2 [00:01<00:00,  1.16it/s]\n"
     ]
    }
   ],
   "source": [
    "if __name__ == \"__main__\":\n",
    "\n",
    "    coco_train = {\n",
    "        \"info\": info,\n",
    "        \"licenses\": LICENSES,\n",
    "        \"images\": [],\n",
    "        \"annotations\": [],\n",
    "        \"categories\": CATEGORIES,\n",
    "    }\n",
    "\n",
    "    coco_val = {\n",
    "        \"info\": info,\n",
    "        \"licenses\": LICENSES,\n",
    "        \"images\": [],\n",
    "        \"annotations\": [],\n",
    "        \"categories\": CATEGORIES,\n",
    "    }\n",
    "\n",
    "    ds_num = int(input(\"Dataset: #\"))\n",
    "    img_dir = \"../../Database/ds_{:03d}/masks\".format(ds_num)\n",
    "    num_img_dict = {\"train\": 10000, \"val\": 2000}\n",
    "    for phase in [\"train\", \"val\"]:\n",
    "        for i in trange(num_img_dict[phase]):\n",
    "            img = cv2.imread(osp.join(img_dir, phase, \"img_{:05d}.jpg\".format(i + 1)))\n",
    "            img2mask = Img2Mask(img, threshold=100)\n",
    "            mask_ = img2mask()\n",
    "            npmasks = (mask_ / 255).astype(np.uint8)\n",
    "            npmasks = [npmasks[:, :, 0], npmasks[:, :, 1], npmasks[:, :, 2]]\n",
    "\n",
    "            if phase == \"train\":\n",
    "                mask2coco(npmasks=npmasks, img_id=i + 1, coco_dict=coco_train)\n",
    "            else:\n",
    "                mask2coco(npmasks=npmasks, img_id=i + 1, coco_dict=coco_val)\n",
    "\n",
    "    #             cv2.imwrite(img_dir + '/{}/mask_{}.png'.format(phase, i+1), mask_)\n",
    "\n",
    "    with open(\n",
    "        \"../../Database/ds_{:03d}/anno_train.json\".format(ds_num), \"w\"\n",
    "    ) as f_train:\n",
    "        json.dump(coco_train, f_train, indent=4)\n",
    "    with open(\"../../Database/ds_{:03d}/anno_val.json\".format(ds_num), \"w\") as f_val:\n",
    "        json.dump(coco_val, f_val, indent=4)"
   ]
  },
  {
   "cell_type": "code",
   "execution_count": 6,
   "metadata": {},
   "outputs": [
    {
     "name": "stdout",
     "output_type": "stream",
     "text": [
      "Finished!!\n"
     ]
    }
   ],
   "source": [
    "print(\"Finished!!\")"
   ]
  }
 ],
 "metadata": {
  "jupytext": {
   "text_representation": {
    "extension": ".py",
    "format_name": "light",
    "format_version": "1.5",
    "jupytext_version": "1.6.0"
   }
  },
  "kernelspec": {
   "display_name": "Python 3",
   "language": "python",
   "name": "python3"
  },
  "language_info": {
   "codemirror_mode": {
    "name": "ipython",
    "version": 3
   },
   "file_extension": ".py",
   "mimetype": "text/x-python",
   "name": "python",
   "nbconvert_exporter": "python",
   "pygments_lexer": "ipython3",
   "version": "3.7.9"
  }
 },
 "nbformat": 4,
 "nbformat_minor": 4
}
