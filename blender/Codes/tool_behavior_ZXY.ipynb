{
 "cells": [
  {
   "cell_type": "code",
   "execution_count": null,
   "metadata": {},
   "outputs": [],
   "source": [
    "\"\"\"Generating a sim video\"\"\""
   ]
  },
  {
   "cell_type": "code",
   "execution_count": null,
   "metadata": {},
   "outputs": [],
   "source": [
    "from random import randrange\n",
    "import bpy\n",
    "import numpy as np\n",
    "import pandas as pd"
   ]
  },
  {
   "cell_type": "code",
   "execution_count": null,
   "metadata": {},
   "outputs": [],
   "source": [
    "unit2mm = 1 / 1000\n",
    "deg2rad = np.pi / 180"
   ]
  },
  {
   "cell_type": "code",
   "execution_count": null,
   "metadata": {},
   "outputs": [],
   "source": [
    "dataset_num = 23\n",
    "file_format = \"jpg\"  # jpg/png"
   ]
  },
  {
   "cell_type": "code",
   "execution_count": null,
   "metadata": {},
   "outputs": [],
   "source": [
    "csv_dir = \"C:/Users/admin/Google Drive/deepest3d/Database/ds_{:03d}\".format(\n",
    "    dataset_num)\n",
    "file_path_train = csv_dir + \"/train_{:03d}.csv\".format(dataset_num)\n",
    "file_path_val = csv_dir + \"/val_{:03d}.csv\".format(dataset_num)"
   ]
  },
  {
   "cell_type": "code",
   "execution_count": null,
   "metadata": {},
   "outputs": [],
   "source": [
    "df_train = pd.read_csv(file_path_train, dtype=\"float32\")\n",
    "df_val = pd.read_csv(file_path_val, dtype=\"float32\")"
   ]
  },
  {
   "cell_type": "code",
   "execution_count": null,
   "metadata": {},
   "outputs": [],
   "source": [
    "df_dict = {\"train\": df_train, \"val\": df_val}"
   ]
  },
  {
   "cell_type": "code",
   "execution_count": null,
   "metadata": {},
   "outputs": [],
   "source": [
    "forceps = bpy.data.objects[\"forceps\"]\n",
    "free_edge = bpy.data.objects[\"Edge_free\"]\n",
    "f_loc = forceps.location\n",
    "f_rot = forceps.rotation_euler\n",
    "fe_rot = free_edge.rotation_euler"
   ]
  },
  {
   "cell_type": "code",
   "execution_count": null,
   "metadata": {},
   "outputs": [],
   "source": [
    "def make_img():\n",
    "    for phase in (\"train\", \"val\"):\n",
    "        for i in range(len(df_dict[phase])):\n",
    "\n",
    "            # Translation\n",
    "            f_loc.x, f_loc.y, f_loc.z = df_dict[phase].loc[i, \"x\":\"z\"] * unit2mm\n",
    "\n",
    "            # Rotation (Euler)\n",
    "            f_rot.z, f_rot.x, f_rot.y = df_dict[phase].loc[\n",
    "                i, \"gamma\":\"beta\"] * deg2rad\n",
    "\n",
    "            fe_rot.x = -(df_dict[phase].loc[i, \"phi\"] + 90) * deg2rad\n",
    "\n",
    "            # Import and transform a background image\n",
    "            bg_img_path = \"C:/Users/admin/Google Drive/deepest3d/Database/surgical_videos/movie_002_L/movie_002_L_001\"\n",
    "            img_num = randrange(174)\n",
    "            bpy.ops.import_image.to_plane(\n",
    "                shader=\"SHADELESS\",\n",
    "                files=[{\n",
    "                    \"name\": bg_img_path + \"{:05d}.png\".format(img_num)\n",
    "                }],\n",
    "            )\n",
    "            bg = bpy.data.objects[\"movie_002_L_001\" + \"{:05d}\".format(img_num)]\n",
    "            bg.location = (0, 0, -0.5)\n",
    "            # bpy.context.scene.objects.active = bg\n",
    "            bpy.ops.transform.resize(value=(0.5, 0.5, 0.5))\n",
    "\n",
    "            bpy.ops.render.render()\n",
    "            bpy.data.images[\"Render Result\"].save_render(\n",
    "                filepath=csv_dir +\n",
    "                \"/{}/img_{:05d}.{}\".format(phase, i + 1, file_format))\n",
    "\n",
    "            objs = bpy.data.objects\n",
    "            objs.remove(bg, do_unlink=True)"
   ]
  },
  {
   "cell_type": "code",
   "execution_count": null,
   "metadata": {},
   "outputs": [],
   "source": [
    "make_img()"
   ]
  }
 ],
 "metadata": {
  "jupytext": {
   "text_representation": {
    "extension": ".py",
    "format_name": "light",
    "format_version": "1.5",
    "jupytext_version": "1.6.0"
   }
  },
  "kernelspec": {
   "display_name": "Python 3",
   "language": "python",
   "name": "python3"
  },
  "language_info": {
   "codemirror_mode": {
    "name": "ipython",
    "version": 3
   },
   "file_extension": ".py",
   "mimetype": "text/x-python",
   "name": "python",
   "nbconvert_exporter": "python",
   "pygments_lexer": "ipython3",
   "version": "3.7.9"
  }
 },
 "nbformat": 4,
 "nbformat_minor": 4
}
