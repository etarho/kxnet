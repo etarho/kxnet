{
 "cells": [
  {
   "cell_type": "code",
   "execution_count": null,
   "metadata": {},
   "outputs": [],
   "source": [
    "# Generating evaluation dataset"
   ]
  },
  {
   "cell_type": "code",
   "execution_count": 2,
   "metadata": {},
   "outputs": [],
   "source": [
    "import cv2\n",
    "import numpy as np\n",
    "import pandas as pd\n",
    "from IPython.display import clear_output\n",
    "from scipy.spatial.transform import Rotation\n",
    "from sksurgerynditracker.nditracker import NDITracker"
   ]
  },
  {
   "cell_type": "code",
   "execution_count": 3,
   "metadata": {},
   "outputs": [],
   "source": [
    "ROMFILE_DIR = \"./tracking/Slicer/rom_config/\""
   ]
  },
  {
   "cell_type": "code",
   "execution_count": 4,
   "metadata": {},
   "outputs": [],
   "source": [
    "rom_list = [\"custom_001\", \"chessboard\"]"
   ]
  },
  {
   "cell_type": "code",
   "execution_count": 5,
   "metadata": {},
   "outputs": [],
   "source": [
    "TRACKER_SETTINGS = {\n",
    "    \"tracker type\": \"polaris\",\n",
    "    \"romfiles\": list(map(lambda x: ROMFILE_DIR + x + \".rom\", rom_list)),\n",
    "}"
   ]
  },
  {
   "cell_type": "code",
   "execution_count": 6,
   "metadata": {},
   "outputs": [],
   "source": [
    "class SyncCamTrak:\n",
    "    def __init__(self):\n",
    "        print(\"\\nInitializing tracker...\")\n",
    "        self.tracker = NDITracker(TRACKER_SETTINGS)\n",
    "        self.tracker.start_tracking()\n",
    "\n",
    "        print(\"Initializing camera...\\n\")\n",
    "        self.cap = cv2.VideoCapture(0)\n",
    "        fps = int(self.cap.get(cv2.CAP_PROP_FPS))\n",
    "        w = int(self.cap.get(cv2.CAP_PROP_FRAME_WIDTH))\n",
    "        h = int(self.cap.get(cv2.CAP_PROP_FRAME_HEIGHT))\n",
    "        fourcc = cv2.VideoWriter_fourcc(\"m\", \"p\", \"4\", \"v\")\n",
    "        self.video = cv2.VideoWriter(\"eval.mp4\", fourcc, fps, (w, h))\n",
    "\n",
    "    def get_transform(self, tool, frame_num, mat):\n",
    "        assert mat.shape == (4, 4)\n",
    "        x = mat[0, 3]\n",
    "        y = mat[1, 3]\n",
    "        z = mat[2, 3]\n",
    "        rot_mat = mat[:3, :3]\n",
    "        rot = Rotation.from_matrix(rot_mat).as_euler(\"ZXY\")\n",
    "        alpha, beta, gamma = np.rad2deg(rot)\n",
    "        r1, r2, r3, r4, r5, r6, r7, r8, r9 = rot_mat.flatten()\n",
    "        print(\n",
    "            \"\"\"\n",
    "        =================\n",
    "        ID: {}\n",
    "        Frame: #{}\n",
    "        -----------------\n",
    "        Tx: {:05.2f} mm\n",
    "        Ty: {:05.2f} mm\n",
    "        Tz: {:05.2f} mm\n",
    "        Rx: {:05.2f} deg\n",
    "        Ry: {:05.2f} deg\n",
    "        Rz: {:05.2f} deg\n",
    "        =================\n",
    "        \"\"\".format(\n",
    "                tool,\n",
    "                frame_num,\n",
    "                x,\n",
    "                y,\n",
    "                z,\n",
    "                alpha,\n",
    "                beta,\n",
    "                gamma,\n",
    "            )\n",
    "        )\n",
    "        return frame_num, x, y, z, r1, r2, r3, r4, r5, r6, r7, r8, r9\n",
    "\n",
    "    def on(self):\n",
    "        j = 0\n",
    "        tool_dict = {\"1\": \"forceps\", \"2\": \"endoscope\"}\n",
    "        transform_dict = {\"forceps\": [], \"endoscope\": []}\n",
    "        while True:\n",
    "            clear_output(wait=True)\n",
    "            id_, _, _, mat, _ = self.tracker.get_frame()\n",
    "            for i in id_:\n",
    "                tool = tool_dict[str(i)]\n",
    "                transform = self.get_transform(tool, j, mat[i - 1])\n",
    "                transform_dict[tool].append(transform)\n",
    "\n",
    "            ret, frame = self.cap.read()\n",
    "            cv2.imshow(\"camera\", frame)\n",
    "            cv2.imwrite(\"images/img_{:05d}.jpg\".format(j+1), frame)\n",
    "            self.video.write(frame)\n",
    "            j += 1\n",
    "            if cv2.waitKey(1) & 0xFF == ord('q'):\n",
    "                break\n",
    "\n",
    "        for tool in [\"forceps\", \"endoscope\"]:\n",
    "            df = pd.DataFrame(\n",
    "                transform_dict[tool],\n",
    "                columns=[\n",
    "                    \"frame\",\n",
    "                    \"x\",\n",
    "                    \"y\",\n",
    "                    \"z\",\n",
    "                    \"r1\",\n",
    "                    \"r2\",\n",
    "                    \"r3\",\n",
    "                    \"r4\",\n",
    "                    \"r5\",\n",
    "                    \"r6\",\n",
    "                    \"r7\",\n",
    "                    \"r8\",\n",
    "                    \"r9\",\n",
    "                ],\n",
    "            )\n",
    "            df.to_csv(\"{}.csv\".format(tool), index=False)\n",
    "        print(\"\\nFile save successed!!\")\n",
    "        self.cap.release()\n",
    "        cv2.destroyAllWindows()"
   ]
  },
  {
   "cell_type": "code",
   "execution_count": 7,
   "metadata": {},
   "outputs": [
    {
     "name": "stdout",
     "output_type": "stream",
     "text": [
      "\n",
      "Initializing tracker...\n",
      "Initializing camera...\n",
      "\n"
     ]
    }
   ],
   "source": [
    "main = SyncCamTrak()"
   ]
  },
  {
   "cell_type": "code",
   "execution_count": 8,
   "metadata": {},
   "outputs": [
    {
     "name": "stdin",
     "output_type": "stream",
     "text": [
      "Press ENTER to start recording\n",
      " \n"
     ]
    },
    {
     "data": {
      "text/plain": [
       "''"
      ]
     },
     "execution_count": 8,
     "metadata": {},
     "output_type": "execute_result"
    }
   ],
   "source": [
    "input(\"Press ENTER to start recording\\n\")"
   ]
  },
  {
   "cell_type": "code",
   "execution_count": 9,
   "metadata": {},
   "outputs": [
    {
     "name": "stdout",
     "output_type": "stream",
     "text": [
      "Press q to stop recording\n"
     ]
    }
   ],
   "source": [
    "print('Press q to stop recording')"
   ]
  },
  {
   "cell_type": "code",
   "execution_count": 10,
   "metadata": {},
   "outputs": [
    {
     "name": "stdout",
     "output_type": "stream",
     "text": [
      "\n",
      "        =================\n",
      "        ID: forceps\n",
      "        Frame: #146\n",
      "        -----------------\n",
      "        Tx: -33.76 mm\n",
      "        Ty: 289.91 mm\n",
      "        Tz: -1259.50 mm\n",
      "        Rx: 160.86 deg\n",
      "        Ry: 54.44 deg\n",
      "        Rz: 31.43 deg\n",
      "        =================\n",
      "        \n",
      "\n",
      "        =================\n",
      "        ID: endoscope\n",
      "        Frame: #146\n",
      "        -----------------\n",
      "        Tx: 00nan mm\n",
      "        Ty: 00nan mm\n",
      "        Tz: 00nan mm\n",
      "        Rx: 00nan deg\n",
      "        Ry: 00nan deg\n",
      "        Rz: 00.00 deg\n",
      "        =================\n",
      "        \n",
      "\n",
      "File save successed!!\n"
     ]
    }
   ],
   "source": [
    "if __name__ == \"__main__\":\n",
    "    main.on()"
   ]
  },
  {
   "cell_type": "code",
   "execution_count": null,
   "metadata": {},
   "outputs": [],
   "source": []
  }
 ],
 "metadata": {
  "jupytext": {
   "text_representation": {
    "extension": ".py",
    "format_name": "light",
    "format_version": "1.5",
    "jupytext_version": "1.6.0"
   }
  },
  "kernelspec": {
   "display_name": "Python 3",
   "language": "python",
   "name": "python3"
  },
  "language_info": {
   "codemirror_mode": {
    "name": "ipython",
    "version": 3
   },
   "file_extension": ".py",
   "mimetype": "text/x-python",
   "name": "python",
   "nbconvert_exporter": "python",
   "pygments_lexer": "ipython3",
   "version": "3.7.9"
  }
 },
 "nbformat": 4,
 "nbformat_minor": 4
}
