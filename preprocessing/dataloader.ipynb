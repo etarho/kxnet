{
 "cells": [
  {
   "cell_type": "code",
   "execution_count": 2,
   "metadata": {},
   "outputs": [
    {
     "ename": "ModuleNotFoundError",
     "evalue": "No module named 'preprocessing'",
     "output_type": "error",
     "traceback": [
      "\u001b[1;31m---------------------------------------------------------------------------\u001b[0m",
      "\u001b[1;31mModuleNotFoundError\u001b[0m                       Traceback (most recent call last)",
      "\u001b[1;32m<ipython-input-2-fdc5a94b9fe0>\u001b[0m in \u001b[0;36m<module>\u001b[1;34m\u001b[0m\n\u001b[0;32m      7\u001b[0m \u001b[1;32mimport\u001b[0m \u001b[0myaml\u001b[0m\u001b[1;33m\u001b[0m\u001b[1;33m\u001b[0m\u001b[0m\n\u001b[0;32m      8\u001b[0m \u001b[1;32mfrom\u001b[0m \u001b[0mPIL\u001b[0m \u001b[1;32mimport\u001b[0m \u001b[0mImage\u001b[0m\u001b[1;33m\u001b[0m\u001b[1;33m\u001b[0m\u001b[0m\n\u001b[1;32m----> 9\u001b[1;33m \u001b[1;32mfrom\u001b[0m \u001b[0mpreprocessing\u001b[0m\u001b[1;33m.\u001b[0m\u001b[0mtransformer\u001b[0m \u001b[1;32mimport\u001b[0m \u001b[0mScaleTransformer\u001b[0m\u001b[1;33m\u001b[0m\u001b[1;33m\u001b[0m\u001b[0m\n\u001b[0m\u001b[0;32m     10\u001b[0m \u001b[1;32mfrom\u001b[0m \u001b[0msklearn\u001b[0m\u001b[1;33m.\u001b[0m\u001b[0mpreprocessing\u001b[0m \u001b[1;32mimport\u001b[0m \u001b[0mMinMaxScaler\u001b[0m\u001b[1;33m\u001b[0m\u001b[1;33m\u001b[0m\u001b[0m\n",
      "\u001b[1;31mModuleNotFoundError\u001b[0m: No module named 'preprocessing'"
     ]
    }
   ],
   "source": [
    "import os\n",
    "\n",
    "import numpy as np\n",
    "import pandas as pd\n",
    "import torch\n",
    "import torch.utils.data as data\n",
    "import yaml\n",
    "from PIL import Image\n",
    "from preprocessing.transformer import ScaleTransformer\n",
    "from sklearn.preprocessing import MinMaxScaler"
   ]
  },
  {
   "cell_type": "code",
   "execution_count": null,
   "metadata": {},
   "outputs": [],
   "source": [
    "class LaparoDataset(data.Dataset):\n",
    "    def __init__(self, ds_num, phase, transform):\n",
    "        #         self.ds_dir = os.getcwd() + '/Database/ds_{:03d}'.format(ds_num)\n",
    "        self.ds_dir = \"G:/My Drive/hppose/Database/ds_{:03d}\".format(ds_num)\n",
    "        self.phase = phase\n",
    "        self.transform = transform\n",
    "        df = pd.read_csv(self.ds_dir + \"/{}.csv\".format(phase))\n",
    "        df[\"z\"] *= -1\n",
    "        df[\"nz\"] *= -1\n",
    "        self.dataframe = df\n",
    "        self.PARAMS = [\"x\", \"y\", \"z\", \"nx\", \"ny\", \"nz\", \"gamma_s\", \"gamma_c\", \"phi\"]\n",
    "\n",
    "        with open(self.ds_dir + \"/ds_config.yaml\") as f:\n",
    "            config = yaml.load(f, Loader=yaml.SafeLoader)\n",
    "\n",
    "        camera = config[\"camera\"]\n",
    "        x = camera[\"z_max\"] * np.tan(np.radians(camera[\"fov\"] / 2))\n",
    "        y = x * camera[\"aspect\"]\n",
    "\n",
    "        # Range of each parameter\n",
    "        X = [-x, x]\n",
    "        Y = [-y, y]\n",
    "        Z = [camera[\"z_min\"], camera[\"z_max\"]]\n",
    "        N = [-1.0, 1.0]\n",
    "        NZ = [0.25, 0.95]\n",
    "        GAMMA = [-1.0, 1.0]\n",
    "        PHI = [0.0, config[\"articulation\"][\"phi_max\"]]\n",
    "\n",
    "        RANGE = np.stack([X, Y, Z, N, N, NZ, GAMMA, GAMMA, PHI], 0)\n",
    "\n",
    "        self.scaler = MinMaxScaler()\n",
    "        self.scaler.fit(RANGE.T)\n",
    "\n",
    "    def __len__(self):\n",
    "        return len(self.dataframe)\n",
    "\n",
    "    def __getitem__(self, idx):\n",
    "        img = Image.open(\n",
    "            os.path.join(self.ds_dir, self.phase, \"img_{:05d}.jpg\".format(idx + 1))\n",
    "        )\n",
    "        img = self.transform(img)\n",
    "\n",
    "        t = np.array([self.dataframe.loc[idx, self.PARAMS]])\n",
    "        target = torch.Tensor(self.scaler.transform(t)).squeeze()\n",
    "\n",
    "        return img, target"
   ]
  },
  {
   "cell_type": "code",
   "execution_count": null,
   "metadata": {},
   "outputs": [],
   "source": [
    "class NpLaparoDataset(data.Dataset):\n",
    "    def __init__(self, ds_num, phase, input_size):\n",
    "        self.input_size = input_size\n",
    "        self.ds_dir = \"G:/My Drive/hppose/Database/ds_{:03d}\".format(ds_num)\n",
    "        self.phase = phase\n",
    "        df = pd.read_csv(self.ds_dir + \"/{}.csv\".format(phase))\n",
    "        df[\"z\"] *= -1\n",
    "        df[\"nz\"] *= -1\n",
    "        self.dataframe = df\n",
    "        self.PARAMS = [\"x\", \"y\", \"z\", \"nx\", \"ny\", \"nz\", \"gamma_s\", \"gamma_c\", \"phi\"]\n",
    "\n",
    "        self.scaler = ScaleTransformer(ds_num)\n",
    "\n",
    "    def __len__(self):\n",
    "        return len(self.dataframe)\n",
    "\n",
    "    def __getitem__(self, idx):\n",
    "        img = np.load(\n",
    "            os.path.join(\n",
    "                self.ds_dir,\n",
    "                \"{}x{}/numpy\".format(self.input_size[0], self.input_size[1]),\n",
    "                self.phase,\n",
    "                \"img_{:05d}.npy\".format(idx + 1),\n",
    "            )\n",
    "        )\n",
    "\n",
    "        img = torch.tensor(img)\n",
    "\n",
    "        t = np.array([self.dataframe.loc[idx, self.PARAMS]])\n",
    "        target = torch.Tensor(self.scaler.transform(t)).squeeze()\n",
    "\n",
    "        return img, target"
   ]
  }
 ],
 "metadata": {
  "jupytext": {
   "text_representation": {
    "extension": ".py",
    "format_name": "light",
    "format_version": "1.5",
    "jupytext_version": "1.6.0"
   }
  },
  "kernelspec": {
   "display_name": "Python 3",
   "language": "python",
   "name": "python3"
  },
  "language_info": {
   "codemirror_mode": {
    "name": "ipython",
    "version": 3
   },
   "file_extension": ".py",
   "mimetype": "text/x-python",
   "name": "python",
   "nbconvert_exporter": "python",
   "pygments_lexer": "ipython3",
   "version": "3.7.9"
  }
 },
 "nbformat": 4,
 "nbformat_minor": 4
}
